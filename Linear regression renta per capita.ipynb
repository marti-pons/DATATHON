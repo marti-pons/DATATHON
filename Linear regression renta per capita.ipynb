{
 "cells": [
  {
   "cell_type": "code",
   "execution_count": 121,
   "id": "07fca105-7ac6-41d2-8870-b96e25602adc",
   "metadata": {},
   "outputs": [],
   "source": [
    "import pandas as pd\n",
    "import numpy as np\n",
    "from sklearn.linear_model import LinearRegression"
   ]
  },
  {
   "cell_type": "code",
   "execution_count": 124,
   "id": "9a4cd3ad-b0ed-49f0-81e1-ef409a1c58b6",
   "metadata": {},
   "outputs": [],
   "source": [
    "rpc = pd.read_csv(\"rentapercapita.csv\") #Data frame amb dues columnes: any i renta"
   ]
  },
  {
   "cell_type": "code",
   "execution_count": 108,
   "id": "46adc79a-8408-4b02-b725-cbe89ca2d98d",
   "metadata": {},
   "outputs": [],
   "source": [
    "X_anys = rpc.iloc[:,0].values.reshape(-1,1) #iloc és integer location i només agafa les columnes. Values transforma en array. Reshape passa de [1,2,3] a [[1],[2],[3]]\n",
    "Y_rentes = rpc.iloc[:, 1].values.reshape(-1,1)"
   ]
  },
  {
   "cell_type": "code",
   "execution_count": null,
   "id": "5432a7b2-f28e-4145-b2f4-e43763aa1af8",
   "metadata": {},
   "outputs": [],
   "source": [
    "X_anysplus = np.append(X_anys, [[2019], [2020], [2021]]) #les prediccions fan una Y per cada X, afegim els anys que voldrem predir\n",
    "X_anysplus = X_anysplus.reshape(-1,1)"
   ]
  },
  {
   "cell_type": "code",
   "execution_count": 125,
   "id": "b9b4a832-d2db-4aa8-aa98-971580c96716",
   "metadata": {},
   "outputs": [],
   "source": [
    "regr = LinearRegression() #està buit"
   ]
  },
  {
   "cell_type": "code",
   "execution_count": 126,
   "id": "7c09b817-cba3-458b-9075-4392e2aeb490",
   "metadata": {},
   "outputs": [
    {
     "data": {
      "text/plain": [
       "LinearRegression()"
      ]
     },
     "execution_count": 126,
     "metadata": {},
     "output_type": "execute_result"
    }
   ],
   "source": [
    "regr.fit(X_anys, Y_rentes) #fem el model"
   ]
  },
  {
   "cell_type": "code",
   "execution_count": 113,
   "id": "33c80465-0e63-47f9-8505-47fa4e34c0c8",
   "metadata": {},
   "outputs": [
    {
     "name": "stdout",
     "output_type": "stream",
     "text": [
      "0.9671774408401566\n"
     ]
    }
   ],
   "source": [
    "print(regr.score(X_anys,Y_rentes)) #No sé molt bé si és la correlació o què collons és això"
   ]
  },
  {
   "cell_type": "code",
   "execution_count": 119,
   "id": "6b5136e9-880c-4688-b474-96e7e01efa24",
   "metadata": {},
   "outputs": [],
   "source": [
    "Y_pred = regr.predict(X_anysplus) #Predict els valors"
   ]
  },
  {
   "cell_type": "code",
   "execution_count": 120,
   "id": "60dea0e2-4cbd-4e13-92be-ff51f7cb05a1",
   "metadata": {},
   "outputs": [
    {
     "data": {
      "text/plain": [
       "array([[1677.542],\n",
       "       [1715.124],\n",
       "       [1752.706],\n",
       "       [1790.288],\n",
       "       [1827.87 ],\n",
       "       [1865.452],\n",
       "       [1903.034]])"
      ]
     },
     "execution_count": 120,
     "metadata": {},
     "output_type": "execute_result"
    }
   ],
   "source": [
    "Y_pred #Valors predits. Pd: compareu amb la Y estan molt bé els que tenim!!!"
   ]
  },
  {
   "cell_type": "code",
   "execution_count": 127,
   "id": "0f0f8b06-cc06-444a-8a8b-fde96845397f",
   "metadata": {},
   "outputs": [
    {
     "data": {
      "text/plain": [
       "array([[1671.25],\n",
       "       [1727.75],\n",
       "       [1746.33],\n",
       "       [1790.33]])"
      ]
     },
     "execution_count": 127,
     "metadata": {},
     "output_type": "execute_result"
    }
   ],
   "source": [
    "Y_rentes"
   ]
  }
 ],
 "metadata": {
  "kernelspec": {
   "display_name": "Python 3",
   "language": "python",
   "name": "python3"
  },
  "language_info": {
   "codemirror_mode": {
    "name": "ipython",
    "version": 3
   },
   "file_extension": ".py",
   "mimetype": "text/x-python",
   "name": "python",
   "nbconvert_exporter": "python",
   "pygments_lexer": "ipython3",
   "version": "3.8.8"
  }
 },
 "nbformat": 4,
 "nbformat_minor": 5
}
